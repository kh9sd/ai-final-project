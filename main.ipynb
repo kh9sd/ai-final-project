{
 "cells": [
  {
   "cell_type": "code",
   "execution_count": null,
   "metadata": {},
   "outputs": [],
   "source": [
    "from minesweeper_env import MinesweeperEnv\n",
    "\n",
    "WIDTH = 5\n",
    "HEIGHT = 6\n",
    "NUM_MINES = 10\n",
    "\n",
    "shit = MinesweeperEnv(width=WIDTH, height=HEIGHT, n_mines=NUM_MINES)\n",
    "\n",
    "# init_grid() is called in constructor already\n",
    "# same for init_state() and get_board()\n",
    "# get_state_im is board state getter for DQN"
   ]
  },
  {
   "cell_type": "code",
   "execution_count": 2,
   "metadata": {},
   "outputs": [
    {
     "data": {
      "text/html": [
       "<style type=\"text/css\">\n",
       "#T_9ac7f_row0_col0, #T_9ac7f_row0_col1, #T_9ac7f_row0_col2, #T_9ac7f_row0_col3, #T_9ac7f_row0_col4, #T_9ac7f_row0_col5, #T_9ac7f_row0_col6, #T_9ac7f_row0_col7, #T_9ac7f_row1_col0, #T_9ac7f_row1_col1, #T_9ac7f_row1_col2, #T_9ac7f_row1_col3, #T_9ac7f_row1_col4, #T_9ac7f_row1_col5, #T_9ac7f_row1_col6, #T_9ac7f_row1_col7, #T_9ac7f_row2_col0, #T_9ac7f_row2_col1, #T_9ac7f_row2_col2, #T_9ac7f_row2_col3, #T_9ac7f_row2_col4, #T_9ac7f_row2_col5, #T_9ac7f_row2_col6, #T_9ac7f_row2_col7, #T_9ac7f_row3_col0, #T_9ac7f_row3_col1, #T_9ac7f_row3_col2, #T_9ac7f_row3_col3, #T_9ac7f_row3_col4, #T_9ac7f_row3_col5, #T_9ac7f_row3_col6, #T_9ac7f_row3_col7, #T_9ac7f_row4_col0, #T_9ac7f_row4_col1, #T_9ac7f_row4_col2, #T_9ac7f_row4_col3, #T_9ac7f_row4_col4, #T_9ac7f_row4_col5, #T_9ac7f_row4_col6, #T_9ac7f_row4_col7, #T_9ac7f_row5_col0, #T_9ac7f_row5_col1, #T_9ac7f_row5_col2, #T_9ac7f_row5_col3, #T_9ac7f_row5_col4, #T_9ac7f_row5_col5, #T_9ac7f_row5_col6, #T_9ac7f_row5_col7, #T_9ac7f_row6_col0, #T_9ac7f_row6_col1, #T_9ac7f_row6_col2, #T_9ac7f_row6_col3, #T_9ac7f_row6_col4, #T_9ac7f_row6_col5, #T_9ac7f_row6_col6, #T_9ac7f_row6_col7, #T_9ac7f_row7_col0, #T_9ac7f_row7_col1, #T_9ac7f_row7_col2, #T_9ac7f_row7_col3, #T_9ac7f_row7_col4, #T_9ac7f_row7_col5, #T_9ac7f_row7_col6, #T_9ac7f_row7_col7, #T_9ac7f_row8_col0, #T_9ac7f_row8_col1, #T_9ac7f_row8_col2, #T_9ac7f_row8_col3, #T_9ac7f_row8_col4, #T_9ac7f_row8_col5, #T_9ac7f_row8_col6, #T_9ac7f_row8_col7 {\n",
       "  color: white;\n",
       "}\n",
       "</style>\n",
       "<table id=\"T_9ac7f\">\n",
       "  <thead>\n",
       "    <tr>\n",
       "      <th class=\"blank level0\" >&nbsp;</th>\n",
       "      <th id=\"T_9ac7f_level0_col0\" class=\"col_heading level0 col0\" >0</th>\n",
       "      <th id=\"T_9ac7f_level0_col1\" class=\"col_heading level0 col1\" >1</th>\n",
       "      <th id=\"T_9ac7f_level0_col2\" class=\"col_heading level0 col2\" >2</th>\n",
       "      <th id=\"T_9ac7f_level0_col3\" class=\"col_heading level0 col3\" >3</th>\n",
       "      <th id=\"T_9ac7f_level0_col4\" class=\"col_heading level0 col4\" >4</th>\n",
       "      <th id=\"T_9ac7f_level0_col5\" class=\"col_heading level0 col5\" >5</th>\n",
       "      <th id=\"T_9ac7f_level0_col6\" class=\"col_heading level0 col6\" >6</th>\n",
       "      <th id=\"T_9ac7f_level0_col7\" class=\"col_heading level0 col7\" >7</th>\n",
       "    </tr>\n",
       "  </thead>\n",
       "  <tbody>\n",
       "    <tr>\n",
       "      <th id=\"T_9ac7f_level0_row0\" class=\"row_heading level0 row0\" >0</th>\n",
       "      <td id=\"T_9ac7f_row0_col0\" class=\"data row0 col0\" >-1</td>\n",
       "      <td id=\"T_9ac7f_row0_col1\" class=\"data row0 col1\" >-1</td>\n",
       "      <td id=\"T_9ac7f_row0_col2\" class=\"data row0 col2\" >-1</td>\n",
       "      <td id=\"T_9ac7f_row0_col3\" class=\"data row0 col3\" >-1</td>\n",
       "      <td id=\"T_9ac7f_row0_col4\" class=\"data row0 col4\" >-1</td>\n",
       "      <td id=\"T_9ac7f_row0_col5\" class=\"data row0 col5\" >-1</td>\n",
       "      <td id=\"T_9ac7f_row0_col6\" class=\"data row0 col6\" >-1</td>\n",
       "      <td id=\"T_9ac7f_row0_col7\" class=\"data row0 col7\" >-1</td>\n",
       "    </tr>\n",
       "    <tr>\n",
       "      <th id=\"T_9ac7f_level0_row1\" class=\"row_heading level0 row1\" >1</th>\n",
       "      <td id=\"T_9ac7f_row1_col0\" class=\"data row1 col0\" >-1</td>\n",
       "      <td id=\"T_9ac7f_row1_col1\" class=\"data row1 col1\" >-1</td>\n",
       "      <td id=\"T_9ac7f_row1_col2\" class=\"data row1 col2\" >-1</td>\n",
       "      <td id=\"T_9ac7f_row1_col3\" class=\"data row1 col3\" >-1</td>\n",
       "      <td id=\"T_9ac7f_row1_col4\" class=\"data row1 col4\" >-1</td>\n",
       "      <td id=\"T_9ac7f_row1_col5\" class=\"data row1 col5\" >-1</td>\n",
       "      <td id=\"T_9ac7f_row1_col6\" class=\"data row1 col6\" >-1</td>\n",
       "      <td id=\"T_9ac7f_row1_col7\" class=\"data row1 col7\" >-1</td>\n",
       "    </tr>\n",
       "    <tr>\n",
       "      <th id=\"T_9ac7f_level0_row2\" class=\"row_heading level0 row2\" >2</th>\n",
       "      <td id=\"T_9ac7f_row2_col0\" class=\"data row2 col0\" >-1</td>\n",
       "      <td id=\"T_9ac7f_row2_col1\" class=\"data row2 col1\" >-1</td>\n",
       "      <td id=\"T_9ac7f_row2_col2\" class=\"data row2 col2\" >-1</td>\n",
       "      <td id=\"T_9ac7f_row2_col3\" class=\"data row2 col3\" >-1</td>\n",
       "      <td id=\"T_9ac7f_row2_col4\" class=\"data row2 col4\" >-1</td>\n",
       "      <td id=\"T_9ac7f_row2_col5\" class=\"data row2 col5\" >-1</td>\n",
       "      <td id=\"T_9ac7f_row2_col6\" class=\"data row2 col6\" >-1</td>\n",
       "      <td id=\"T_9ac7f_row2_col7\" class=\"data row2 col7\" >-1</td>\n",
       "    </tr>\n",
       "    <tr>\n",
       "      <th id=\"T_9ac7f_level0_row3\" class=\"row_heading level0 row3\" >3</th>\n",
       "      <td id=\"T_9ac7f_row3_col0\" class=\"data row3 col0\" >-1</td>\n",
       "      <td id=\"T_9ac7f_row3_col1\" class=\"data row3 col1\" >-1</td>\n",
       "      <td id=\"T_9ac7f_row3_col2\" class=\"data row3 col2\" >-1</td>\n",
       "      <td id=\"T_9ac7f_row3_col3\" class=\"data row3 col3\" >-1</td>\n",
       "      <td id=\"T_9ac7f_row3_col4\" class=\"data row3 col4\" >-1</td>\n",
       "      <td id=\"T_9ac7f_row3_col5\" class=\"data row3 col5\" >-1</td>\n",
       "      <td id=\"T_9ac7f_row3_col6\" class=\"data row3 col6\" >-1</td>\n",
       "      <td id=\"T_9ac7f_row3_col7\" class=\"data row3 col7\" >-1</td>\n",
       "    </tr>\n",
       "    <tr>\n",
       "      <th id=\"T_9ac7f_level0_row4\" class=\"row_heading level0 row4\" >4</th>\n",
       "      <td id=\"T_9ac7f_row4_col0\" class=\"data row4 col0\" >-1</td>\n",
       "      <td id=\"T_9ac7f_row4_col1\" class=\"data row4 col1\" >-1</td>\n",
       "      <td id=\"T_9ac7f_row4_col2\" class=\"data row4 col2\" >-1</td>\n",
       "      <td id=\"T_9ac7f_row4_col3\" class=\"data row4 col3\" >-1</td>\n",
       "      <td id=\"T_9ac7f_row4_col4\" class=\"data row4 col4\" >-1</td>\n",
       "      <td id=\"T_9ac7f_row4_col5\" class=\"data row4 col5\" >-1</td>\n",
       "      <td id=\"T_9ac7f_row4_col6\" class=\"data row4 col6\" >-1</td>\n",
       "      <td id=\"T_9ac7f_row4_col7\" class=\"data row4 col7\" >-1</td>\n",
       "    </tr>\n",
       "    <tr>\n",
       "      <th id=\"T_9ac7f_level0_row5\" class=\"row_heading level0 row5\" >5</th>\n",
       "      <td id=\"T_9ac7f_row5_col0\" class=\"data row5 col0\" >-1</td>\n",
       "      <td id=\"T_9ac7f_row5_col1\" class=\"data row5 col1\" >-1</td>\n",
       "      <td id=\"T_9ac7f_row5_col2\" class=\"data row5 col2\" >-1</td>\n",
       "      <td id=\"T_9ac7f_row5_col3\" class=\"data row5 col3\" >-1</td>\n",
       "      <td id=\"T_9ac7f_row5_col4\" class=\"data row5 col4\" >-1</td>\n",
       "      <td id=\"T_9ac7f_row5_col5\" class=\"data row5 col5\" >-1</td>\n",
       "      <td id=\"T_9ac7f_row5_col6\" class=\"data row5 col6\" >-1</td>\n",
       "      <td id=\"T_9ac7f_row5_col7\" class=\"data row5 col7\" >-1</td>\n",
       "    </tr>\n",
       "    <tr>\n",
       "      <th id=\"T_9ac7f_level0_row6\" class=\"row_heading level0 row6\" >6</th>\n",
       "      <td id=\"T_9ac7f_row6_col0\" class=\"data row6 col0\" >-1</td>\n",
       "      <td id=\"T_9ac7f_row6_col1\" class=\"data row6 col1\" >-1</td>\n",
       "      <td id=\"T_9ac7f_row6_col2\" class=\"data row6 col2\" >-1</td>\n",
       "      <td id=\"T_9ac7f_row6_col3\" class=\"data row6 col3\" >-1</td>\n",
       "      <td id=\"T_9ac7f_row6_col4\" class=\"data row6 col4\" >-1</td>\n",
       "      <td id=\"T_9ac7f_row6_col5\" class=\"data row6 col5\" >-1</td>\n",
       "      <td id=\"T_9ac7f_row6_col6\" class=\"data row6 col6\" >-1</td>\n",
       "      <td id=\"T_9ac7f_row6_col7\" class=\"data row6 col7\" >-1</td>\n",
       "    </tr>\n",
       "    <tr>\n",
       "      <th id=\"T_9ac7f_level0_row7\" class=\"row_heading level0 row7\" >7</th>\n",
       "      <td id=\"T_9ac7f_row7_col0\" class=\"data row7 col0\" >-1</td>\n",
       "      <td id=\"T_9ac7f_row7_col1\" class=\"data row7 col1\" >-1</td>\n",
       "      <td id=\"T_9ac7f_row7_col2\" class=\"data row7 col2\" >-1</td>\n",
       "      <td id=\"T_9ac7f_row7_col3\" class=\"data row7 col3\" >-1</td>\n",
       "      <td id=\"T_9ac7f_row7_col4\" class=\"data row7 col4\" >-1</td>\n",
       "      <td id=\"T_9ac7f_row7_col5\" class=\"data row7 col5\" >-1</td>\n",
       "      <td id=\"T_9ac7f_row7_col6\" class=\"data row7 col6\" >-1</td>\n",
       "      <td id=\"T_9ac7f_row7_col7\" class=\"data row7 col7\" >-1</td>\n",
       "    </tr>\n",
       "    <tr>\n",
       "      <th id=\"T_9ac7f_level0_row8\" class=\"row_heading level0 row8\" >8</th>\n",
       "      <td id=\"T_9ac7f_row8_col0\" class=\"data row8 col0\" >-1</td>\n",
       "      <td id=\"T_9ac7f_row8_col1\" class=\"data row8 col1\" >-1</td>\n",
       "      <td id=\"T_9ac7f_row8_col2\" class=\"data row8 col2\" >-1</td>\n",
       "      <td id=\"T_9ac7f_row8_col3\" class=\"data row8 col3\" >-1</td>\n",
       "      <td id=\"T_9ac7f_row8_col4\" class=\"data row8 col4\" >-1</td>\n",
       "      <td id=\"T_9ac7f_row8_col5\" class=\"data row8 col5\" >-1</td>\n",
       "      <td id=\"T_9ac7f_row8_col6\" class=\"data row8 col6\" >-1</td>\n",
       "      <td id=\"T_9ac7f_row8_col7\" class=\"data row8 col7\" >-1</td>\n",
       "    </tr>\n",
       "  </tbody>\n",
       "</table>\n"
      ],
      "text/plain": [
       "<pandas.io.formats.style.Styler at 0x191711a8be0>"
      ]
     },
     "metadata": {},
     "output_type": "display_data"
    }
   ],
   "source": [
    "shit.draw_state(shit.get_state_im(shit.state))"
   ]
  },
  {
   "cell_type": "code",
   "execution_count": null,
   "metadata": {},
   "outputs": [
    {
     "name": "stdout",
     "output_type": "stream",
     "text": [
      "self.state=[{'coord': (0, 0), 'value': 'U'}, {'coord': (0, 1), 'value': 'U'}, {'coord': (0, 2), 'value': 'U'}, {'coord': (0, 3), 'value': 'U'}, {'coord': (0, 4), 'value': 'U'}, {'coord': (0, 5), 'value': 'U'}, {'coord': (0, 6), 'value': 'U'}, {'coord': (0, 7), 'value': 'U'}, {'coord': (0, 8), 'value': 'U'}, {'coord': (1, 0), 'value': 'U'}, {'coord': (1, 1), 'value': 'U'}, {'coord': (1, 2), 'value': 'U'}, {'coord': (1, 3), 'value': 'U'}, {'coord': (1, 4), 'value': 'U'}, {'coord': (1, 5), 'value': 'U'}, {'coord': (1, 6), 'value': 'U'}, {'coord': (1, 7), 'value': 'U'}, {'coord': (1, 8), 'value': 'U'}, {'coord': (2, 0), 'value': 'U'}, {'coord': (2, 1), 'value': 'U'}, {'coord': (2, 2), 'value': 'U'}, {'coord': (2, 3), 'value': 'U'}, {'coord': (2, 4), 'value': 'U'}, {'coord': (2, 5), 'value': 'U'}, {'coord': (2, 6), 'value': 'U'}, {'coord': (2, 7), 'value': 'U'}, {'coord': (2, 8), 'value': 'U'}, {'coord': (3, 0), 'value': 'U'}, {'coord': (3, 1), 'value': 'U'}, {'coord': (3, 2), 'value': 'U'}, {'coord': (3, 3), 'value': 'U'}, {'coord': (3, 4), 'value': 'U'}, {'coord': (3, 5), 'value': 'U'}, {'coord': (3, 6), 'value': 'U'}, {'coord': (3, 7), 'value': 'U'}, {'coord': (3, 8), 'value': 'U'}, {'coord': (4, 0), 'value': 'U'}, {'coord': (4, 1), 'value': 'U'}, {'coord': (4, 2), 'value': 'U'}, {'coord': (4, 3), 'value': 'U'}, {'coord': (4, 4), 'value': 'U'}, {'coord': (4, 5), 'value': 'U'}, {'coord': (4, 6), 'value': 'U'}, {'coord': (4, 7), 'value': 'U'}, {'coord': (4, 8), 'value': 'U'}, {'coord': (5, 0), 'value': 'U'}, {'coord': (5, 1), 'value': 'U'}, {'coord': (5, 2), 'value': 'U'}, {'coord': (5, 3), 'value': 'U'}, {'coord': (5, 4), 'value': 'U'}, {'coord': (5, 5), 'value': 'U'}, {'coord': (5, 6), 'value': 'U'}, {'coord': (5, 7), 'value': 'U'}, {'coord': (5, 8), 'value': 'U'}, {'coord': (6, 0), 'value': 'U'}, {'coord': (6, 1), 'value': 'U'}, {'coord': (6, 2), 'value': 'U'}, {'coord': (6, 3), 'value': 'U'}, {'coord': (6, 4), 'value': 'U'}, {'coord': (6, 5), 'value': 'U'}, {'coord': (6, 6), 'value': 'U'}, {'coord': (6, 7), 'value': 'U'}, {'coord': (6, 8), 'value': 'U'}, {'coord': (7, 0), 'value': 'U'}, {'coord': (7, 1), 'value': 'U'}, {'coord': (7, 2), 'value': 'U'}, {'coord': (7, 3), 'value': 'U'}, {'coord': (7, 4), 'value': 'U'}, {'coord': (7, 5), 'value': 'U'}, {'coord': (7, 6), 'value': 'U'}, {'coord': (7, 7), 'value': 'U'}, {'coord': (7, 8), 'value': 'U'}, {'coord': (8, 0), 'value': 'U'}, {'coord': (8, 1), 'value': 'U'}, {'coord': (8, 2), 'value': 'U'}, {'coord': (8, 3), 'value': 'U'}, {'coord': (8, 4), 'value': 'U'}, {'coord': (8, 5), 'value': 'U'}, {'coord': (8, 6), 'value': 'U'}, {'coord': (8, 7), 'value': 'U'}, {'coord': (8, 8), 'value': 'U'}]\n"
     ]
    },
    {
     "ename": "TypeError",
     "evalue": "list indices must be integers or slices, not tuple",
     "output_type": "error",
     "traceback": [
      "\u001b[1;31m---------------------------------------------------------------------------\u001b[0m",
      "\u001b[1;31mTypeError\u001b[0m                                 Traceback (most recent call last)",
      "Cell \u001b[1;32mIn[3], line 1\u001b[0m\n\u001b[1;32m----> 1\u001b[0m \u001b[43mshit\u001b[49m\u001b[38;5;241;43m.\u001b[39;49m\u001b[43mclick\u001b[49m\u001b[43m(\u001b[49m\u001b[43m(\u001b[49m\u001b[38;5;241;43m0\u001b[39;49m\u001b[43m,\u001b[49m\u001b[38;5;241;43m0\u001b[39;49m\u001b[43m)\u001b[49m\u001b[43m)\u001b[49m\n",
      "File \u001b[1;32mc:\\Users\\kevin\\Desktop\\ai\\ai-final-project\\minesweeper_env.py:131\u001b[0m, in \u001b[0;36mMinesweeperEnv.click\u001b[1;34m(self, action_index)\u001b[0m\n\u001b[0;32m    129\u001b[0m \u001b[38;5;28;01mdef\u001b[39;00m\u001b[38;5;250m \u001b[39m\u001b[38;5;21mclick\u001b[39m(\u001b[38;5;28mself\u001b[39m, action_index):\n\u001b[0;32m    130\u001b[0m     \u001b[38;5;28mprint\u001b[39m(\u001b[38;5;124mf\u001b[39m\u001b[38;5;124m\"\u001b[39m\u001b[38;5;132;01m{\u001b[39;00m\u001b[38;5;28mself\u001b[39m\u001b[38;5;241m.\u001b[39mstate\u001b[38;5;132;01m=}\u001b[39;00m\u001b[38;5;124m\"\u001b[39m)\n\u001b[1;32m--> 131\u001b[0m     coord \u001b[38;5;241m=\u001b[39m \u001b[38;5;28;43mself\u001b[39;49m\u001b[38;5;241;43m.\u001b[39;49m\u001b[43mstate\u001b[49m\u001b[43m[\u001b[49m\u001b[43maction_index\u001b[49m\u001b[43m]\u001b[49m[\u001b[38;5;124m'\u001b[39m\u001b[38;5;124mcoord\u001b[39m\u001b[38;5;124m'\u001b[39m]\n\u001b[0;32m    132\u001b[0m     value \u001b[38;5;241m=\u001b[39m \u001b[38;5;28mself\u001b[39m\u001b[38;5;241m.\u001b[39mboard[coord]\n\u001b[0;32m    134\u001b[0m     \u001b[38;5;66;03m# ensure first move is not a bomb\u001b[39;00m\n",
      "\u001b[1;31mTypeError\u001b[0m: list indices must be integers or slices, not tuple"
     ]
    }
   ],
   "source": [
    "shit.click(32)"
   ]
  }
 ],
 "metadata": {
  "kernelspec": {
   "display_name": ".venv",
   "language": "python",
   "name": "python3"
  },
  "language_info": {
   "codemirror_mode": {
    "name": "ipython",
    "version": 3
   },
   "file_extension": ".py",
   "mimetype": "text/x-python",
   "name": "python",
   "nbconvert_exporter": "python",
   "pygments_lexer": "ipython3",
   "version": "3.10.2"
  }
 },
 "nbformat": 4,
 "nbformat_minor": 2
}

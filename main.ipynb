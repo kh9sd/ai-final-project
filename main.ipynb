{
 "cells": [
  {
   "cell_type": "code",
   "execution_count": 1,
   "metadata": {},
   "outputs": [],
   "source": [
    "from minesweeper_env import MinesweeperEnv\n",
    "\n",
    "WIDTH = 5\n",
    "HEIGHT = 6\n",
    "NUM_MINES = 10\n",
    "\n",
    "shit = MinesweeperEnv(width=WIDTH, height=HEIGHT, n_mines=NUM_MINES)\n",
    "\n",
    "# init_grid() is called in constructor already\n",
    "# same for init_state() and get_board()\n",
    "# get_state_im is board state getter for DQN"
   ]
  },
  {
   "cell_type": "code",
   "execution_count": 2,
   "metadata": {},
   "outputs": [
    {
     "data": {
      "text/plain": [
       "array([[[0., 0., 0., 0., 0.],\n",
       "        [0., 0., 0., 0., 0.],\n",
       "        [0., 0., 0., 0., 0.],\n",
       "        [0., 0., 0., 0., 0.],\n",
       "        [0., 0., 0., 0., 0.],\n",
       "        [0., 0., 0., 0., 0.]],\n",
       "\n",
       "       [[1., 1., 1., 1., 1.],\n",
       "        [1., 1., 1., 1., 1.],\n",
       "        [1., 1., 1., 1., 1.],\n",
       "        [1., 1., 1., 1., 1.],\n",
       "        [1., 1., 1., 1., 1.],\n",
       "        [1., 1., 1., 1., 1.]]])"
      ]
     },
     "execution_count": 2,
     "metadata": {},
     "output_type": "execute_result"
    }
   ],
   "source": [
    "shit.reset()\n",
    "# shit.draw_state(shit.get_state_im(shit.state))\n",
    "\n",
    "# print(shit.state)\n",
    "shit.get_state_im((shit.state))"
   ]
  },
  {
   "cell_type": "code",
   "execution_count": 6,
   "metadata": {},
   "outputs": [
    {
     "name": "stdout",
     "output_type": "stream",
     "text": [
      "next=array([[[0.  , 0.25, 0.5 , 0.  , 0.  ],\n",
      "        [0.5 , 1.  , 0.  , 0.  , 0.  ],\n",
      "        [0.  , 0.  , 0.  , 0.  , 0.  ],\n",
      "        [0.  , 0.  , 0.  , 0.  , 0.  ],\n",
      "        [0.  , 0.  , 0.  , 0.  , 0.  ],\n",
      "        [0.  , 0.  , 0.  , 0.  , 0.  ]],\n",
      "\n",
      "       [[0.  , 0.  , 0.  , 1.  , 1.  ],\n",
      "        [0.  , 0.  , 1.  , 1.  , 1.  ],\n",
      "        [1.  , 1.  , 1.  , 1.  , 1.  ],\n",
      "        [1.  , 1.  , 1.  , 1.  , 1.  ],\n",
      "        [1.  , 1.  , 1.  , 1.  , 1.  ],\n",
      "        [1.  , 1.  , 1.  , 1.  , 1.  ]]])\n",
      "0.3 False\n"
     ]
    }
   ],
   "source": [
    "next, reward, done = shit.step(2)\n",
    "\n",
    "print(f\"{next=}\")\n",
    "print(reward, done)\n",
    "# shit.draw_state(next)"
   ]
  }
 ],
 "metadata": {
  "kernelspec": {
   "display_name": ".venv",
   "language": "python",
   "name": "python3"
  },
  "language_info": {
   "codemirror_mode": {
    "name": "ipython",
    "version": 3
   },
   "file_extension": ".py",
   "mimetype": "text/x-python",
   "name": "python",
   "nbconvert_exporter": "python",
   "pygments_lexer": "ipython3",
   "version": "3.10.2"
  }
 },
 "nbformat": 4,
 "nbformat_minor": 2
}

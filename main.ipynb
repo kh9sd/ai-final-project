{
 "cells": [
  {
   "cell_type": "code",
   "execution_count": 22,
   "metadata": {},
   "outputs": [],
   "source": [
    "from minesweeper_env import MinesweeperEnv\n",
    "\n",
    "WIDTH = 5\n",
    "HEIGHT = 6\n",
    "NUM_MINES = 10\n",
    "\n",
    "shit = MinesweeperEnv(width=WIDTH, height=HEIGHT, n_mines=NUM_MINES)\n",
    "\n",
    "# init_grid() is called in constructor already\n",
    "# same for init_state() and get_board()\n",
    "# get_state_im is board state getter for DQN"
   ]
  },
  {
   "cell_type": "code",
   "execution_count": null,
   "metadata": {},
   "outputs": [
    {
     "data": {
      "text/html": [
       "<style type=\"text/css\">\n",
       "#T_d8d60_row0_col0, #T_d8d60_row0_col1, #T_d8d60_row0_col2, #T_d8d60_row0_col3, #T_d8d60_row0_col4, #T_d8d60_row1_col0, #T_d8d60_row1_col1, #T_d8d60_row1_col2, #T_d8d60_row1_col3, #T_d8d60_row1_col4, #T_d8d60_row2_col0, #T_d8d60_row2_col1, #T_d8d60_row2_col2, #T_d8d60_row2_col3, #T_d8d60_row2_col4, #T_d8d60_row3_col0, #T_d8d60_row3_col1, #T_d8d60_row3_col2, #T_d8d60_row3_col3, #T_d8d60_row3_col4, #T_d8d60_row4_col0, #T_d8d60_row4_col1, #T_d8d60_row4_col2, #T_d8d60_row4_col3, #T_d8d60_row4_col4, #T_d8d60_row5_col0, #T_d8d60_row5_col1, #T_d8d60_row5_col2, #T_d8d60_row5_col3, #T_d8d60_row5_col4 {\n",
       "  color: white;\n",
       "}\n",
       "</style>\n",
       "<table id=\"T_d8d60\">\n",
       "  <thead>\n",
       "    <tr>\n",
       "      <th class=\"blank level0\" >&nbsp;</th>\n",
       "      <th id=\"T_d8d60_level0_col0\" class=\"col_heading level0 col0\" >0</th>\n",
       "      <th id=\"T_d8d60_level0_col1\" class=\"col_heading level0 col1\" >1</th>\n",
       "      <th id=\"T_d8d60_level0_col2\" class=\"col_heading level0 col2\" >2</th>\n",
       "      <th id=\"T_d8d60_level0_col3\" class=\"col_heading level0 col3\" >3</th>\n",
       "      <th id=\"T_d8d60_level0_col4\" class=\"col_heading level0 col4\" >4</th>\n",
       "    </tr>\n",
       "  </thead>\n",
       "  <tbody>\n",
       "    <tr>\n",
       "      <th id=\"T_d8d60_level0_row0\" class=\"row_heading level0 row0\" >0</th>\n",
       "      <td id=\"T_d8d60_row0_col0\" class=\"data row0 col0\" >-1</td>\n",
       "      <td id=\"T_d8d60_row0_col1\" class=\"data row0 col1\" >-1</td>\n",
       "      <td id=\"T_d8d60_row0_col2\" class=\"data row0 col2\" >-1</td>\n",
       "      <td id=\"T_d8d60_row0_col3\" class=\"data row0 col3\" >-1</td>\n",
       "      <td id=\"T_d8d60_row0_col4\" class=\"data row0 col4\" >-1</td>\n",
       "    </tr>\n",
       "    <tr>\n",
       "      <th id=\"T_d8d60_level0_row1\" class=\"row_heading level0 row1\" >1</th>\n",
       "      <td id=\"T_d8d60_row1_col0\" class=\"data row1 col0\" >-1</td>\n",
       "      <td id=\"T_d8d60_row1_col1\" class=\"data row1 col1\" >-1</td>\n",
       "      <td id=\"T_d8d60_row1_col2\" class=\"data row1 col2\" >-1</td>\n",
       "      <td id=\"T_d8d60_row1_col3\" class=\"data row1 col3\" >-1</td>\n",
       "      <td id=\"T_d8d60_row1_col4\" class=\"data row1 col4\" >-1</td>\n",
       "    </tr>\n",
       "    <tr>\n",
       "      <th id=\"T_d8d60_level0_row2\" class=\"row_heading level0 row2\" >2</th>\n",
       "      <td id=\"T_d8d60_row2_col0\" class=\"data row2 col0\" >-1</td>\n",
       "      <td id=\"T_d8d60_row2_col1\" class=\"data row2 col1\" >-1</td>\n",
       "      <td id=\"T_d8d60_row2_col2\" class=\"data row2 col2\" >-1</td>\n",
       "      <td id=\"T_d8d60_row2_col3\" class=\"data row2 col3\" >-1</td>\n",
       "      <td id=\"T_d8d60_row2_col4\" class=\"data row2 col4\" >-1</td>\n",
       "    </tr>\n",
       "    <tr>\n",
       "      <th id=\"T_d8d60_level0_row3\" class=\"row_heading level0 row3\" >3</th>\n",
       "      <td id=\"T_d8d60_row3_col0\" class=\"data row3 col0\" >-1</td>\n",
       "      <td id=\"T_d8d60_row3_col1\" class=\"data row3 col1\" >-1</td>\n",
       "      <td id=\"T_d8d60_row3_col2\" class=\"data row3 col2\" >-1</td>\n",
       "      <td id=\"T_d8d60_row3_col3\" class=\"data row3 col3\" >-1</td>\n",
       "      <td id=\"T_d8d60_row3_col4\" class=\"data row3 col4\" >-1</td>\n",
       "    </tr>\n",
       "    <tr>\n",
       "      <th id=\"T_d8d60_level0_row4\" class=\"row_heading level0 row4\" >4</th>\n",
       "      <td id=\"T_d8d60_row4_col0\" class=\"data row4 col0\" >-1</td>\n",
       "      <td id=\"T_d8d60_row4_col1\" class=\"data row4 col1\" >-1</td>\n",
       "      <td id=\"T_d8d60_row4_col2\" class=\"data row4 col2\" >-1</td>\n",
       "      <td id=\"T_d8d60_row4_col3\" class=\"data row4 col3\" >-1</td>\n",
       "      <td id=\"T_d8d60_row4_col4\" class=\"data row4 col4\" >-1</td>\n",
       "    </tr>\n",
       "    <tr>\n",
       "      <th id=\"T_d8d60_level0_row5\" class=\"row_heading level0 row5\" >5</th>\n",
       "      <td id=\"T_d8d60_row5_col0\" class=\"data row5 col0\" >-1</td>\n",
       "      <td id=\"T_d8d60_row5_col1\" class=\"data row5 col1\" >-1</td>\n",
       "      <td id=\"T_d8d60_row5_col2\" class=\"data row5 col2\" >-1</td>\n",
       "      <td id=\"T_d8d60_row5_col3\" class=\"data row5 col3\" >-1</td>\n",
       "      <td id=\"T_d8d60_row5_col4\" class=\"data row5 col4\" >-1</td>\n",
       "    </tr>\n",
       "  </tbody>\n",
       "</table>\n"
      ],
      "text/plain": [
       "<pandas.io.formats.style.Styler at 0x21f7ecea950>"
      ]
     },
     "metadata": {},
     "output_type": "display_data"
    }
   ],
   "source": [
    "shit.reset()\n",
    "shit.draw_state(shit.get_state_im(shit.state))"
   ]
  },
  {
   "cell_type": "code",
   "execution_count": 25,
   "metadata": {},
   "outputs": [
    {
     "name": "stdout",
     "output_type": "stream",
     "text": [
      "-1 True\n"
     ]
    },
    {
     "data": {
      "text/html": [
       "<style type=\"text/css\">\n",
       "#T_34559_row0_col0, #T_34559_row0_col1, #T_34559_row0_col2, #T_34559_row0_col3, #T_34559_row0_col4, #T_34559_row1_col1, #T_34559_row1_col2, #T_34559_row1_col3, #T_34559_row1_col4, #T_34559_row2_col0, #T_34559_row2_col1, #T_34559_row2_col2, #T_34559_row2_col3, #T_34559_row2_col4, #T_34559_row3_col0, #T_34559_row3_col1, #T_34559_row3_col3, #T_34559_row3_col4, #T_34559_row4_col0, #T_34559_row4_col1, #T_34559_row4_col2, #T_34559_row4_col3, #T_34559_row4_col4, #T_34559_row5_col0, #T_34559_row5_col1, #T_34559_row5_col2, #T_34559_row5_col3, #T_34559_row5_col4 {\n",
       "  color: white;\n",
       "}\n",
       "#T_34559_row1_col0 {\n",
       "  color: magenta;\n",
       "}\n",
       "#T_34559_row3_col2 {\n",
       "  color: midnightblue;\n",
       "}\n",
       "</style>\n",
       "<table id=\"T_34559\">\n",
       "  <thead>\n",
       "    <tr>\n",
       "      <th class=\"blank level0\" >&nbsp;</th>\n",
       "      <th id=\"T_34559_level0_col0\" class=\"col_heading level0 col0\" >0</th>\n",
       "      <th id=\"T_34559_level0_col1\" class=\"col_heading level0 col1\" >1</th>\n",
       "      <th id=\"T_34559_level0_col2\" class=\"col_heading level0 col2\" >2</th>\n",
       "      <th id=\"T_34559_level0_col3\" class=\"col_heading level0 col3\" >3</th>\n",
       "      <th id=\"T_34559_level0_col4\" class=\"col_heading level0 col4\" >4</th>\n",
       "    </tr>\n",
       "  </thead>\n",
       "  <tbody>\n",
       "    <tr>\n",
       "      <th id=\"T_34559_level0_row0\" class=\"row_heading level0 row0\" >0</th>\n",
       "      <td id=\"T_34559_row0_col0\" class=\"data row0 col0\" >-1</td>\n",
       "      <td id=\"T_34559_row0_col1\" class=\"data row0 col1\" >-1</td>\n",
       "      <td id=\"T_34559_row0_col2\" class=\"data row0 col2\" >-1</td>\n",
       "      <td id=\"T_34559_row0_col3\" class=\"data row0 col3\" >-1</td>\n",
       "      <td id=\"T_34559_row0_col4\" class=\"data row0 col4\" >-1</td>\n",
       "    </tr>\n",
       "    <tr>\n",
       "      <th id=\"T_34559_level0_row1\" class=\"row_heading level0 row1\" >1</th>\n",
       "      <td id=\"T_34559_row1_col0\" class=\"data row1 col0\" >-2</td>\n",
       "      <td id=\"T_34559_row1_col1\" class=\"data row1 col1\" >-1</td>\n",
       "      <td id=\"T_34559_row1_col2\" class=\"data row1 col2\" >-1</td>\n",
       "      <td id=\"T_34559_row1_col3\" class=\"data row1 col3\" >-1</td>\n",
       "      <td id=\"T_34559_row1_col4\" class=\"data row1 col4\" >-1</td>\n",
       "    </tr>\n",
       "    <tr>\n",
       "      <th id=\"T_34559_level0_row2\" class=\"row_heading level0 row2\" >2</th>\n",
       "      <td id=\"T_34559_row2_col0\" class=\"data row2 col0\" >-1</td>\n",
       "      <td id=\"T_34559_row2_col1\" class=\"data row2 col1\" >-1</td>\n",
       "      <td id=\"T_34559_row2_col2\" class=\"data row2 col2\" >-1</td>\n",
       "      <td id=\"T_34559_row2_col3\" class=\"data row2 col3\" >-1</td>\n",
       "      <td id=\"T_34559_row2_col4\" class=\"data row2 col4\" >-1</td>\n",
       "    </tr>\n",
       "    <tr>\n",
       "      <th id=\"T_34559_level0_row3\" class=\"row_heading level0 row3\" >3</th>\n",
       "      <td id=\"T_34559_row3_col0\" class=\"data row3 col0\" >-1</td>\n",
       "      <td id=\"T_34559_row3_col1\" class=\"data row3 col1\" >-1</td>\n",
       "      <td id=\"T_34559_row3_col2\" class=\"data row3 col2\" >4</td>\n",
       "      <td id=\"T_34559_row3_col3\" class=\"data row3 col3\" >-1</td>\n",
       "      <td id=\"T_34559_row3_col4\" class=\"data row3 col4\" >-1</td>\n",
       "    </tr>\n",
       "    <tr>\n",
       "      <th id=\"T_34559_level0_row4\" class=\"row_heading level0 row4\" >4</th>\n",
       "      <td id=\"T_34559_row4_col0\" class=\"data row4 col0\" >-1</td>\n",
       "      <td id=\"T_34559_row4_col1\" class=\"data row4 col1\" >-1</td>\n",
       "      <td id=\"T_34559_row4_col2\" class=\"data row4 col2\" >-1</td>\n",
       "      <td id=\"T_34559_row4_col3\" class=\"data row4 col3\" >-1</td>\n",
       "      <td id=\"T_34559_row4_col4\" class=\"data row4 col4\" >-1</td>\n",
       "    </tr>\n",
       "    <tr>\n",
       "      <th id=\"T_34559_level0_row5\" class=\"row_heading level0 row5\" >5</th>\n",
       "      <td id=\"T_34559_row5_col0\" class=\"data row5 col0\" >-1</td>\n",
       "      <td id=\"T_34559_row5_col1\" class=\"data row5 col1\" >-1</td>\n",
       "      <td id=\"T_34559_row5_col2\" class=\"data row5 col2\" >-1</td>\n",
       "      <td id=\"T_34559_row5_col3\" class=\"data row5 col3\" >-1</td>\n",
       "      <td id=\"T_34559_row5_col4\" class=\"data row5 col4\" >-1</td>\n",
       "    </tr>\n",
       "  </tbody>\n",
       "</table>\n"
      ],
      "text/plain": [
       "<pandas.io.formats.style.Styler at 0x21f7eceb790>"
      ]
     },
     "metadata": {},
     "output_type": "display_data"
    }
   ],
   "source": [
    "next, reward, done = shit.step(5)\n",
    "\n",
    "print(reward, done)\n",
    "shit.draw_state(next)"
   ]
  }
 ],
 "metadata": {
  "kernelspec": {
   "display_name": ".venv",
   "language": "python",
   "name": "python3"
  },
  "language_info": {
   "codemirror_mode": {
    "name": "ipython",
    "version": 3
   },
   "file_extension": ".py",
   "mimetype": "text/x-python",
   "name": "python",
   "nbconvert_exporter": "python",
   "pygments_lexer": "ipython3",
   "version": "3.10.2"
  }
 },
 "nbformat": 4,
 "nbformat_minor": 2
}
